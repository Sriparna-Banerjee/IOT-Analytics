{
 "cells": [
  {
   "cell_type": "code",
   "execution_count": 1,
   "metadata": {},
   "outputs": [
    {
     "name": "stderr",
     "output_type": "stream",
     "text": [
      "Using TensorFlow backend.\n"
     ]
    }
   ],
   "source": [
    "import numpy as np\n",
    "from keras import layers \n",
    "from keras.layers import Input, Dense, Activation, ZeroPadding2D, BatchNormalization, Flatten, Conv2D\n",
    "from keras.layers import AveragePooling2D, MaxPooling2D, Dropout, GlobalMaxPooling2D, GlobalAveragePooling2D\n",
    "from keras.models import Model\n",
    "from keras.preprocessing import image\n",
    "from keras.utils import layer_utils\n",
    "from keras.utils.data_utils import get_file\n",
    "from keras.applications.imagenet_utils import preprocess_input\n",
    "import pydot\n",
    "from IPython.display import SVG\n",
    "from keras.utils.vis_utils import model_to_dot\n",
    "from keras.utils import plot_model\n",
    "from utils import *\n",
    "\n",
    "import keras.backend as K\n",
    "K.set_image_data_format('channels_last')\n",
    "\n",
    "import matplotlib.pyplot as plt\n",
    "from matplotlib.pyplot import imshow\n",
    "\n",
    "%matplotlib inline\n"
   ]
  },
  {
   "cell_type": "code",
   "execution_count": 2,
   "metadata": {
    "collapsed": true
   },
   "outputs": [],
   "source": [
    "def load_dataset():\n",
    "    train_dataset = h5py.File('E:/MBA (DSDA) 4th Sem/IOT Analytics/facerecognitiondataset/train.h5',\"r\")\n",
    "    train_set_x = np.array(train_dataset[\"train_set_x\"[:]])\n",
    "    train_set_y = np.array(train_dataset[\"train_set_y\"[:]])\n",
    "    \n",
    "    test_dataset = h5py.File('E:/MBA (DSDA) 4th Sem/IOT Analytics/facerecognitiondataset/test.h5',\"r\")\n",
    "    test_set_x = np.array(test_dataset[\"test_set_x\"[:]])\n",
    "    test_set_y = np.array(test_dataset[\"test_set_y\"[:]]) #analyzed only basis of happy or angry faces\n",
    "    \n",
    "    classes = np.array(test_dataset[\"list_classes\"][:])\n",
    "    #train_set_x = train_set_x.reshape((1,train_set_x.shape[0]))\n",
    "    #test_set_x = test_set_x.reshape((1,test_set_x.shape[0]))\n",
    "    \n",
    "    return train_set_x, train_set_y,test_set_x,test_set_y,classes"
   ]
  },
  {
   "cell_type": "code",
   "execution_count": 3,
   "metadata": {},
   "outputs": [
    {
     "name": "stdout",
     "output_type": "stream",
     "text": [
      "Number of training examples are = 600\n",
      "Number of testing examples are = 150\n",
      "X_train shape(600, 64, 64, 3)\n",
      "X_test shape(150, 64, 64, 3)\n",
      "Y_train shape(600, 1)\n",
      "Y_test shape(150, 1)\n"
     ]
    }
   ],
   "source": [
    "train_set_x, train_set_y, test_set_x, test_set_y, classes = load_dataset()\n",
    "\n",
    "X_train = train_set_x / 255\n",
    "X_test = test_set_x / 255\n",
    "\n",
    "Y_train = train_set_y.reshape((600,1))\n",
    "Y_test = test_set_y.reshape((150,1))\n",
    "\n",
    "print(\"Number of training examples are = \"+ str(X_train.shape[0]))\n",
    "print(\"Number of testing examples are = \"+ str(X_test.shape[0]))\n",
    "print (\"X_train shape\" +str(X_train.shape))\n",
    "print (\"X_test shape\" +str(X_test.shape))\n",
    "print (\"Y_train shape\" +str(Y_train.shape))\n",
    "print (\"Y_test shape\" +str(Y_test.shape))\n"
   ]
  },
  {
   "cell_type": "code",
   "execution_count": 4,
   "metadata": {
    "collapsed": true
   },
   "outputs": [],
   "source": [
    "def model(input_shape):\n",
    "    X_input = Input(input_shape)\n",
    "    \n",
    "    X = ZeroPadding2D((3,3))(X_input)\n",
    "    X=Conv2D(32,(7,7),strides=(1,1), name = 'conv0')(X)\n",
    "    \n",
    "    X= BatchNormalization(axis=3,name = 'bn0')(X)\n",
    "    X= Activation('relu')(X)\n",
    "    \n",
    "    X=MaxPooling2D((2,2),name= 'max_pool')(X)\n",
    "    X=Flatten()(X)\n",
    "    X=Dense(1, activation='sigmoid',name='fc')(X)\n",
    "    model = Model(input = X_input, outputs=X, name = 'IOTFACE')\n",
    "    return model"
   ]
  },
  {
   "cell_type": "code",
   "execution_count": 5,
   "metadata": {
    "collapsed": true
   },
   "outputs": [],
   "source": [
    "def IOTFACE(input_shape):\n",
    "    X_input = Input(input_shape)\n",
    "    \n",
    "    X = ZeroPadding2D((3,3))(X_input)\n",
    "    X=Conv2D(32,(7,7),strides=(1,1), name = 'conv0')(X)\n",
    "    \n",
    "    X= BatchNormalization(axis=3,name = 'bn0')(X)\n",
    "    X= Activation('relu')(X)\n",
    "    \n",
    "    X=MaxPooling2D((2,2),name= 'max_pool')(X)\n",
    "    X=Flatten()(X)\n",
    "    X=Dense(1, activation='sigmoid',name='fc')(X)\n",
    "    model = Model(input = X_input, outputs=X, name = 'IOTFACE')\n",
    "    return model"
   ]
  },
  {
   "cell_type": "code",
   "execution_count": 6,
   "metadata": {},
   "outputs": [
    {
     "name": "stderr",
     "output_type": "stream",
     "text": [
      "C:\\Users\\dell-pc\\Anaconda3\\lib\\site-packages\\ipykernel_launcher.py:13: UserWarning: Update your `Model` call to the Keras 2 API: `Model(outputs=Tensor(\"fc..., name=\"IOTFACE\", inputs=Tensor(\"in...)`\n",
      "  del sys.path[0]\n"
     ]
    }
   ],
   "source": [
    "iotface = IOTFACE(X_train.shape[1:])"
   ]
  },
  {
   "cell_type": "code",
   "execution_count": 7,
   "metadata": {
    "collapsed": true
   },
   "outputs": [],
   "source": [
    "iotface.compile(optimizer = \"adam\", loss = \"binary_crossentropy\",metrics=[\"accuracy\"])"
   ]
  },
  {
   "cell_type": "code",
   "execution_count": 8,
   "metadata": {},
   "outputs": [
    {
     "name": "stdout",
     "output_type": "stream",
     "text": [
      "Epoch 1/40\n",
      "600/600 [==============================] - 22s 37ms/step - loss: 1.0783 - acc: 0.7467\n",
      "Epoch 2/40\n",
      "600/600 [==============================] - 18s 30ms/step - loss: 0.2146 - acc: 0.9233\n",
      "Epoch 3/40\n",
      "600/600 [==============================] - 18s 30ms/step - loss: 0.1585 - acc: 0.9333\n",
      "Epoch 4/40\n",
      "600/600 [==============================] - 18s 30ms/step - loss: 0.1049 - acc: 0.9550\n",
      "Epoch 5/40\n",
      "600/600 [==============================] - 18s 30ms/step - loss: 0.0945 - acc: 0.9600\n",
      "Epoch 6/40\n",
      "600/600 [==============================] - 18s 30ms/step - loss: 0.1166 - acc: 0.9617\n",
      "Epoch 7/40\n",
      "600/600 [==============================] - 18s 30ms/step - loss: 0.0835 - acc: 0.9700\n",
      "Epoch 8/40\n",
      "600/600 [==============================] - 18s 30ms/step - loss: 0.1027 - acc: 0.9633\n",
      "Epoch 9/40\n",
      "600/600 [==============================] - 18s 31ms/step - loss: 0.0786 - acc: 0.9767\n",
      "Epoch 10/40\n",
      "600/600 [==============================] - 18s 31ms/step - loss: 0.1078 - acc: 0.9683\n",
      "Epoch 11/40\n",
      "600/600 [==============================] - 18s 30ms/step - loss: 0.0642 - acc: 0.9767\n",
      "Epoch 12/40\n",
      "600/600 [==============================] - 18s 30ms/step - loss: 0.0512 - acc: 0.9883\n",
      "Epoch 13/40\n",
      "600/600 [==============================] - 18s 30ms/step - loss: 0.0424 - acc: 0.9917\n",
      "Epoch 14/40\n",
      "600/600 [==============================] - 18s 30ms/step - loss: 0.0713 - acc: 0.9817\n",
      "Epoch 15/40\n",
      "600/600 [==============================] - 18s 31ms/step - loss: 0.0719 - acc: 0.9733\n",
      "Epoch 16/40\n",
      "600/600 [==============================] - 19s 31ms/step - loss: 0.1946 - acc: 0.9450\n",
      "Epoch 17/40\n",
      "600/600 [==============================] - 18s 31ms/step - loss: 0.1407 - acc: 0.9517\n",
      "Epoch 18/40\n",
      "600/600 [==============================] - 18s 31ms/step - loss: 0.0672 - acc: 0.9783\n",
      "Epoch 19/40\n",
      "600/600 [==============================] - 18s 31ms/step - loss: 0.0883 - acc: 0.9733\n",
      "Epoch 20/40\n",
      "600/600 [==============================] - 18s 30ms/step - loss: 0.0941 - acc: 0.9717\n",
      "Epoch 21/40\n",
      "600/600 [==============================] - 18s 30ms/step - loss: 0.1073 - acc: 0.9717\n",
      "Epoch 22/40\n",
      "600/600 [==============================] - 18s 30ms/step - loss: 0.0697 - acc: 0.9767\n",
      "Epoch 23/40\n",
      "600/600 [==============================] - 18s 31ms/step - loss: 0.1122 - acc: 0.9700\n",
      "Epoch 24/40\n",
      "600/600 [==============================] - 18s 30ms/step - loss: 0.0488 - acc: 0.9833\n",
      "Epoch 25/40\n",
      "600/600 [==============================] - 18s 30ms/step - loss: 0.1815 - acc: 0.9433\n",
      "Epoch 26/40\n",
      "600/600 [==============================] - 18s 30ms/step - loss: 0.0617 - acc: 0.9750\n",
      "Epoch 27/40\n",
      "600/600 [==============================] - 18s 30ms/step - loss: 0.0519 - acc: 0.9817\n",
      "Epoch 28/40\n",
      "600/600 [==============================] - 18s 30ms/step - loss: 0.0820 - acc: 0.9800\n",
      "Epoch 29/40\n",
      "600/600 [==============================] - 18s 30ms/step - loss: 0.0535 - acc: 0.9817\n",
      "Epoch 30/40\n",
      "600/600 [==============================] - 18s 30ms/step - loss: 0.0554 - acc: 0.9767\n",
      "Epoch 31/40\n",
      "600/600 [==============================] - 19s 31ms/step - loss: 0.0654 - acc: 0.9883\n",
      "Epoch 32/40\n",
      "600/600 [==============================] - 18s 30ms/step - loss: 0.0391 - acc: 0.9833\n",
      "Epoch 33/40\n",
      "600/600 [==============================] - 18s 30ms/step - loss: 0.0477 - acc: 0.9817\n",
      "Epoch 34/40\n",
      "600/600 [==============================] - 18s 30ms/step - loss: 0.0295 - acc: 0.9867\n",
      "Epoch 35/40\n",
      "600/600 [==============================] - 18s 30ms/step - loss: 0.0278 - acc: 0.9900\n",
      "Epoch 36/40\n",
      "600/600 [==============================] - 18s 30ms/step - loss: 0.0281 - acc: 0.9917\n",
      "Epoch 37/40\n",
      "600/600 [==============================] - 18s 30ms/step - loss: 0.0275 - acc: 0.9883\n",
      "Epoch 38/40\n",
      "600/600 [==============================] - 18s 30ms/step - loss: 0.0419 - acc: 0.9850\n",
      "Epoch 39/40\n",
      "600/600 [==============================] - 18s 30ms/step - loss: 0.0151 - acc: 0.9950\n",
      "Epoch 40/40\n",
      "600/600 [==============================] - 18s 30ms/step - loss: 0.0377 - acc: 0.9900\n"
     ]
    },
    {
     "data": {
      "text/plain": [
       "<keras.callbacks.History at 0x6f561e9780>"
      ]
     },
     "execution_count": 8,
     "metadata": {},
     "output_type": "execute_result"
    }
   ],
   "source": [
    "iotface.fit(X_train,Y_train,epochs=40,batch_size=16)"
   ]
  },
  {
   "cell_type": "code",
   "execution_count": 11,
   "metadata": {},
   "outputs": [
    {
     "name": "stdout",
     "output_type": "stream",
     "text": [
      "150/150 [==============================] - 5s 30ms/step\n",
      "loss = 0.226089539528\n",
      "accuracy =0.933333330949\n"
     ]
    }
   ],
   "source": [
    "preds = iotface.evaluate(X_test, Y_test, batch_size=32, verbose=1, sample_weight=None)\n",
    "print(\"loss = \"+str(preds[0]))\n",
    "print(\"accuracy =\"+str(preds[1]))"
   ]
  },
  {
   "cell_type": "code",
   "execution_count": 12,
   "metadata": {},
   "outputs": [
    {
     "name": "stdout",
     "output_type": "stream",
     "text": [
      "_________________________________________________________________\n",
      "Layer (type)                 Output Shape              Param #   \n",
      "=================================================================\n",
      "input_1 (InputLayer)         (None, 64, 64, 3)         0         \n",
      "_________________________________________________________________\n",
      "zero_padding2d_1 (ZeroPaddin (None, 70, 70, 3)         0         \n",
      "_________________________________________________________________\n",
      "conv0 (Conv2D)               (None, 64, 64, 32)        4736      \n",
      "_________________________________________________________________\n",
      "bn0 (BatchNormalization)     (None, 64, 64, 32)        128       \n",
      "_________________________________________________________________\n",
      "activation_1 (Activation)    (None, 64, 64, 32)        0         \n",
      "_________________________________________________________________\n",
      "max_pool (MaxPooling2D)      (None, 32, 32, 32)        0         \n",
      "_________________________________________________________________\n",
      "flatten_1 (Flatten)          (None, 32768)             0         \n",
      "_________________________________________________________________\n",
      "fc (Dense)                   (None, 1)                 32769     \n",
      "=================================================================\n",
      "Total params: 37,633\n",
      "Trainable params: 37,569\n",
      "Non-trainable params: 64\n",
      "_________________________________________________________________\n"
     ]
    }
   ],
   "source": [
    "iotface.summary()"
   ]
  },
  {
   "cell_type": "code",
   "execution_count": 17,
   "metadata": {},
   "outputs": [],
   "source": [
    "import pydot\n",
    "plot_model(iotface,to_file='iotface.png')"
   ]
  },
  {
   "cell_type": "code",
   "execution_count": null,
   "metadata": {
    "collapsed": true
   },
   "outputs": [],
   "source": []
  }
 ],
 "metadata": {
  "kernelspec": {
   "display_name": "Python 3",
   "language": "python",
   "name": "python3"
  },
  "language_info": {
   "codemirror_mode": {
    "name": "ipython",
    "version": 3
   },
   "file_extension": ".py",
   "mimetype": "text/x-python",
   "name": "python",
   "nbconvert_exporter": "python",
   "pygments_lexer": "ipython3",
   "version": "3.6.1"
  }
 },
 "nbformat": 4,
 "nbformat_minor": 2
}
